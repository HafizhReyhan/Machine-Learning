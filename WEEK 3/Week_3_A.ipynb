{
  "nbformat": 4,
  "nbformat_minor": 0,
  "metadata": {
    "colab": {
      "provenance": []
    },
    "kernelspec": {
      "name": "python3",
      "display_name": "Python 3"
    },
    "language_info": {
      "name": "python"
    }
  },
  "cells": [
    {
      "cell_type": "code",
      "execution_count": 13,
      "metadata": {
        "colab": {
          "base_uri": "https://localhost:8080/"
        },
        "id": "JpkCD84jdF8c",
        "outputId": "c447c4f3-fc09-46f8-b94b-a36ed976b02f"
      },
      "outputs": [
        {
          "output_type": "stream",
          "name": "stdout",
          "text": [
            "K-NN Metrics: MSE = 0.0648, RMSE = 0.2545, R² = 0.6924\n",
            "Decision Tree Metrics: MSE = 0.1120, RMSE = 0.3347, R² = 0.4681\n"
          ]
        }
      ],
      "source": [
        "import pandas as pd\n",
        "from sklearn.model_selection import train_test_split\n",
        "from sklearn.preprocessing import StandardScaler, OneHotEncoder\n",
        "from sklearn.compose import ColumnTransformer\n",
        "from sklearn.pipeline import Pipeline\n",
        "from sklearn.impute import SimpleImputer\n",
        "from sklearn.neighbors import KNeighborsRegressor\n",
        "from sklearn.tree import DecisionTreeRegressor\n",
        "from sklearn.metrics import mean_squared_error, r2_score\n",
        "import numpy as np\n",
        "\n",
        "# Load dataset\n",
        "file_path = 'Infrared.csv'\n",
        "data = pd.read_csv(file_path)\n",
        "\n",
        "# Define features and target variable\n",
        "X = data.drop(columns=['aveOralM'])\n",
        "y = data['aveOralM']\n",
        "\n",
        "# Preprocessing pipeline for categorical and numerical features\n",
        "numerical_features = X.select_dtypes(include=['float64', 'int64']).columns\n",
        "categorical_features = X.select_dtypes(include=['object']).columns\n",
        "\n",
        "# Create preprocessing steps for numerical and categorical data\n",
        "numerical_transformer = Pipeline(steps=[\n",
        "    ('imputer', SimpleImputer(strategy='median')),  # Handle missing values\n",
        "    ('scaler', StandardScaler())  # Standardize features\n",
        "])\n",
        "\n",
        "categorical_transformer = Pipeline(steps=[\n",
        "    ('imputer', SimpleImputer(strategy='most_frequent')),  # Handle missing values\n",
        "    ('onehot', OneHotEncoder(handle_unknown='ignore'))  # One-hot encode categorical variables\n",
        "])\n",
        "\n",
        "# Combine preprocessing steps\n",
        "preprocessor = ColumnTransformer(\n",
        "    transformers=[\n",
        "        ('num', numerical_transformer, numerical_features),\n",
        "        ('cat', categorical_transformer, categorical_features)\n",
        "    ])\n",
        "\n",
        "# Split data into train and test sets\n",
        "X_train, X_test, y_train, y_test = train_test_split(X, y, test_size=0.2, random_state=42)\n",
        "\n",
        "# Define models for K-NN and Decision Tree\n",
        "knn_model = Pipeline(steps=[('preprocessor', preprocessor),\n",
        "                            ('knn', KNeighborsRegressor(n_neighbors=5))])\n",
        "\n",
        "dt_model = Pipeline(steps=[('preprocessor', preprocessor),\n",
        "                           ('dt', DecisionTreeRegressor(random_state=42))])\n",
        "\n",
        "# Train K-NN model\n",
        "knn_model.fit(X_train, y_train)\n",
        "knn_predictions = knn_model.predict(X_test)\n",
        "\n",
        "# Train Decision Tree model\n",
        "dt_model.fit(X_train, y_train)\n",
        "dt_predictions = dt_model.predict(X_test)\n",
        "\n",
        "# Evaluate models using MSE, RMSE, and R2\n",
        "def evaluate_model(y_true, y_pred):\n",
        "    mse = mean_squared_error(y_true, y_pred)\n",
        "    rmse = np.sqrt(mse)\n",
        "    r2 = r2_score(y_true, y_pred)\n",
        "    return mse, rmse, r2\n",
        "\n",
        "knn_metrics = evaluate_model(y_test, knn_predictions)\n",
        "dt_metrics = evaluate_model(y_test, dt_predictions)\n",
        "\n",
        "print(f\"K-NN Metrics: MSE = {knn_metrics[0]:.4f}, RMSE = {knn_metrics[1]:.4f}, R² = {knn_metrics[2]:.4f}\")\n",
        "print(f\"Decision Tree Metrics: MSE = {dt_metrics[0]:.4f}, RMSE = {dt_metrics[1]:.4f}, R² = {dt_metrics[2]:.4f}\")\n"
      ]
    }
  ]
}